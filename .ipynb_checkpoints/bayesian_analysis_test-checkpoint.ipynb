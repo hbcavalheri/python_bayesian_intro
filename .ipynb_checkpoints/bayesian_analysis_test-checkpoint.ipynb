{
 "cells": [
  {
   "cell_type": "code",
   "execution_count": 1,
   "id": "12d62927",
   "metadata": {},
   "outputs": [
    {
     "name": "stdout",
     "output_type": "stream",
     "text": [
      "Requirement already satisfied: pymc in /Users/hamandacavalheri/anaconda3/lib/python3.11/site-packages (5.16.2)\n",
      "Requirement already satisfied: arviz>=0.13.0 in /Users/hamandacavalheri/anaconda3/lib/python3.11/site-packages (from pymc) (0.19.0)\n",
      "Requirement already satisfied: cachetools>=4.2.1 in /Users/hamandacavalheri/anaconda3/lib/python3.11/site-packages (from pymc) (5.5.0)\n",
      "Requirement already satisfied: cloudpickle in /Users/hamandacavalheri/anaconda3/lib/python3.11/site-packages (from pymc) (2.2.1)\n",
      "Requirement already satisfied: numpy>=1.15.0 in /Users/hamandacavalheri/anaconda3/lib/python3.11/site-packages (from pymc) (1.24.3)\n",
      "Requirement already satisfied: pandas>=0.24.0 in /Users/hamandacavalheri/anaconda3/lib/python3.11/site-packages (from pymc) (1.5.3)\n",
      "Requirement already satisfied: pytensor<2.26,>=2.25.1 in /Users/hamandacavalheri/anaconda3/lib/python3.11/site-packages (from pymc) (2.25.4)\n",
      "Requirement already satisfied: rich>=13.7.1 in /Users/hamandacavalheri/anaconda3/lib/python3.11/site-packages (from pymc) (13.8.1)\n",
      "Requirement already satisfied: scipy>=1.4.1 in /Users/hamandacavalheri/anaconda3/lib/python3.11/site-packages (from pymc) (1.10.1)\n",
      "Requirement already satisfied: threadpoolctl<4.0.0,>=3.1.0 in /Users/hamandacavalheri/anaconda3/lib/python3.11/site-packages (from pymc) (3.5.0)\n",
      "Requirement already satisfied: typing-extensions>=3.7.4 in /Users/hamandacavalheri/anaconda3/lib/python3.11/site-packages (from pymc) (4.6.3)\n",
      "Requirement already satisfied: setuptools>=60.0.0 in /Users/hamandacavalheri/anaconda3/lib/python3.11/site-packages (from arviz>=0.13.0->pymc) (67.8.0)\n",
      "Requirement already satisfied: matplotlib>=3.5 in /Users/hamandacavalheri/anaconda3/lib/python3.11/site-packages (from arviz>=0.13.0->pymc) (3.7.1)\n",
      "Requirement already satisfied: packaging in /Users/hamandacavalheri/anaconda3/lib/python3.11/site-packages (from arviz>=0.13.0->pymc) (23.0)\n",
      "Requirement already satisfied: dm-tree>=0.1.8 in /Users/hamandacavalheri/anaconda3/lib/python3.11/site-packages (from arviz>=0.13.0->pymc) (0.1.8)\n",
      "Requirement already satisfied: xarray>=2022.6.0 in /Users/hamandacavalheri/anaconda3/lib/python3.11/site-packages (from arviz>=0.13.0->pymc) (2022.11.0)\n",
      "Requirement already satisfied: h5netcdf>=1.0.2 in /Users/hamandacavalheri/anaconda3/lib/python3.11/site-packages (from arviz>=0.13.0->pymc) (1.3.0)\n",
      "Requirement already satisfied: xarray-einstats>=0.3 in /Users/hamandacavalheri/anaconda3/lib/python3.11/site-packages (from arviz>=0.13.0->pymc) (0.7.0)\n",
      "Requirement already satisfied: python-dateutil>=2.8.1 in /Users/hamandacavalheri/anaconda3/lib/python3.11/site-packages (from pandas>=0.24.0->pymc) (2.8.2)\n",
      "Requirement already satisfied: pytz>=2020.1 in /Users/hamandacavalheri/anaconda3/lib/python3.11/site-packages (from pandas>=0.24.0->pymc) (2022.7)\n",
      "Requirement already satisfied: filelock>=3.15 in /Users/hamandacavalheri/anaconda3/lib/python3.11/site-packages (from pytensor<2.26,>=2.25.1->pymc) (3.16.0)\n",
      "Requirement already satisfied: etuples in /Users/hamandacavalheri/anaconda3/lib/python3.11/site-packages (from pytensor<2.26,>=2.25.1->pymc) (0.3.9)\n",
      "Requirement already satisfied: logical-unification in /Users/hamandacavalheri/anaconda3/lib/python3.11/site-packages (from pytensor<2.26,>=2.25.1->pymc) (0.4.6)\n",
      "Requirement already satisfied: miniKanren in /Users/hamandacavalheri/anaconda3/lib/python3.11/site-packages (from pytensor<2.26,>=2.25.1->pymc) (1.0.3)\n",
      "Requirement already satisfied: cons in /Users/hamandacavalheri/anaconda3/lib/python3.11/site-packages (from pytensor<2.26,>=2.25.1->pymc) (0.4.6)\n",
      "Requirement already satisfied: markdown-it-py>=2.2.0 in /Users/hamandacavalheri/anaconda3/lib/python3.11/site-packages (from rich>=13.7.1->pymc) (2.2.0)\n",
      "Requirement already satisfied: pygments<3.0.0,>=2.13.0 in /Users/hamandacavalheri/anaconda3/lib/python3.11/site-packages (from rich>=13.7.1->pymc) (2.15.1)\n",
      "Requirement already satisfied: h5py in /Users/hamandacavalheri/anaconda3/lib/python3.11/site-packages (from h5netcdf>=1.0.2->arviz>=0.13.0->pymc) (3.7.0)\n",
      "Requirement already satisfied: mdurl~=0.1 in /Users/hamandacavalheri/anaconda3/lib/python3.11/site-packages (from markdown-it-py>=2.2.0->rich>=13.7.1->pymc) (0.1.0)\n",
      "Requirement already satisfied: contourpy>=1.0.1 in /Users/hamandacavalheri/anaconda3/lib/python3.11/site-packages (from matplotlib>=3.5->arviz>=0.13.0->pymc) (1.0.5)\n",
      "Requirement already satisfied: cycler>=0.10 in /Users/hamandacavalheri/anaconda3/lib/python3.11/site-packages (from matplotlib>=3.5->arviz>=0.13.0->pymc) (0.11.0)\n",
      "Requirement already satisfied: fonttools>=4.22.0 in /Users/hamandacavalheri/anaconda3/lib/python3.11/site-packages (from matplotlib>=3.5->arviz>=0.13.0->pymc) (4.25.0)\n",
      "Requirement already satisfied: kiwisolver>=1.0.1 in /Users/hamandacavalheri/anaconda3/lib/python3.11/site-packages (from matplotlib>=3.5->arviz>=0.13.0->pymc) (1.4.4)\n",
      "Requirement already satisfied: pillow>=6.2.0 in /Users/hamandacavalheri/anaconda3/lib/python3.11/site-packages (from matplotlib>=3.5->arviz>=0.13.0->pymc) (9.4.0)\n",
      "Requirement already satisfied: pyparsing>=2.3.1 in /Users/hamandacavalheri/anaconda3/lib/python3.11/site-packages (from matplotlib>=3.5->arviz>=0.13.0->pymc) (3.0.9)\n",
      "Requirement already satisfied: six>=1.5 in /Users/hamandacavalheri/anaconda3/lib/python3.11/site-packages (from python-dateutil>=2.8.1->pandas>=0.24.0->pymc) (1.16.0)\n",
      "Requirement already satisfied: toolz in /Users/hamandacavalheri/anaconda3/lib/python3.11/site-packages (from logical-unification->pytensor<2.26,>=2.25.1->pymc) (0.12.0)\n",
      "Requirement already satisfied: multipledispatch in /Users/hamandacavalheri/anaconda3/lib/python3.11/site-packages (from logical-unification->pytensor<2.26,>=2.25.1->pymc) (0.6.0)\n",
      "Note: you may need to restart the kernel to use updated packages.\n"
     ]
    }
   ],
   "source": [
    "pip install pymc"
   ]
  },
  {
   "cell_type": "code",
   "execution_count": 2,
   "id": "b64f6fd4",
   "metadata": {},
   "outputs": [],
   "source": [
    "import numpy as np\n",
    "import pymc as pm\n",
    "import matplotlib.pyplot as plt"
   ]
  },
  {
   "cell_type": "code",
   "execution_count": null,
   "id": "9fe66e46",
   "metadata": {},
   "outputs": [],
   "source": [
    "# Generate synthetic data\n",
    "np.random.seed(42)\n",
    "n_samples = 100\n",
    "X = np.linspace(0, 10, n_samples)\n",
    "true_slope = 2.5\n",
    "true_intercept = 1.0\n",
    "noise = np.random.normal(scale=1.0, size=n_samples)\n",
    "y = true_slope * X + true_intercept + noise\n",
    "\n",
    "# Define the Bayesian model\n",
    "with pm.Model() as model:\n",
    "    # Priors for unknown model parameters\n",
    "    slope = pm.Normal(\"slope\", mu=0, sigma=10)\n",
    "    intercept = pm.Normal(\"intercept\", mu=0, sigma=10)\n",
    "    sigma = pm.HalfNormal(\"sigma\", sigma=1)\n",
    "\n",
    "    # Expected value of outcome\n",
    "    mu = slope * X + intercept\n",
    "\n",
    "    # Likelihood (sampling distribution) of observations\n",
    "    y_obs = pm.Normal(\"y_obs\", mu=mu, sigma=sigma, observed=y)\n",
    "\n",
    "    # Perform Bayesian inference\n",
    "    trace = pm.sample(2000, return_inferencedata=False)\n",
    "\n",
    "# Plot the results\n",
    "pm.plot_trace(trace)\n",
    "plt.show()\n",
    "\n",
    "# Summarize the results\n",
    "summary = pm.summary(trace).round(2)\n",
    "print(summary)\n"
   ]
  }
 ],
 "metadata": {
  "kernelspec": {
   "display_name": "Python 3 (ipykernel)",
   "language": "python",
   "name": "python3"
  },
  "language_info": {
   "codemirror_mode": {
    "name": "ipython",
    "version": 3
   },
   "file_extension": ".py",
   "mimetype": "text/x-python",
   "name": "python",
   "nbconvert_exporter": "python",
   "pygments_lexer": "ipython3",
   "version": "3.11.3"
  }
 },
 "nbformat": 4,
 "nbformat_minor": 5
}
